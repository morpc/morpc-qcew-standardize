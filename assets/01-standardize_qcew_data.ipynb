{
 "cells": [
  {
   "cell_type": "markdown",
   "id": "6dee396f-d3ec-49dd-b6a4-35e6ca6602da",
   "metadata": {},
   "source": [
    "# QCEW Fetch Data Kit"
   ]
  },
  {
   "cell_type": "markdown",
   "id": "59d156da-44b8-4a9e-ba22-b93bcb1d5ca3",
   "metadata": {},
   "source": [
    "## Introduction"
   ]
  },
  {
   "cell_type": "markdown",
   "id": "141b030b-934a-49a1-a3e4-0e50bc7fdea9",
   "metadata": {},
   "source": [
    "This Jupyter Notebook is designed to automate the retrieval and processing of the Quarterly Census of Employment and Wages (QCEW) data, provided by the [U.S. Bureau of Labor Statistics](https://www.bls.gov/cew/) . The datasets retrieved and processed in this notebook contain detailed employment statistics, including the number of establishments, employment levels, total quarterly wages, and more, broken down by industry and ownership sectors for each county, as defined by the [technical documentation](https://www.bls.gov/cew/additional-resources/open-data/csv-data-slices.htm). This notebook specifically focuses on extracting data for a defined set of counties and years within a user specified lists, and either annual or quarterly data is collected based on user specification. See the Parameters section below to select the variables to be included in the extract."
   ]
  },
  {
   "cell_type": "markdown",
   "id": "1ae70a85-459c-43d3-9711-70f9bd922fc6",
   "metadata": {},
   "source": [
    "## Process Outline"
   ]
  },
  {
   "cell_type": "markdown",
   "id": "ee64a9dd-8211-4a45-8f99-13ef3f987ace",
   "metadata": {},
   "source": [
    "The process carried out by this workflow can be described as follows:\n",
    "  - Users specify which years, quarters, and regions they are interested in analyzing through the script's parameter settings. \n",
    "  - The script accesses the QCEW data through the BLS' API. This interface automaticaly retrieves QCEW datasets based on specified parameters: year(s), quarter(s), and area code(s) (FIPS codes for counties).\n",
    "  - Once downloaded, the data undergoes a series of processing steps to format it correctly for analysis. This includes trimming unnecessary characters and converting data types where necessary.\n",
    "  - For each county within the specified region and for each year and/or quarter selected, the script generates a CSV file.\n",
    "  - With each CSV file, a .schema.yaml file is generated. This YAML (YAML Ain't Markup Language) file provides a human-readable schema, defining the structure, data types, and descriptions of the CSV file's columns based on the [Frictionless Data specifications]( https://frictionlessdata.io/). This schema ensures data consistency and aids in validation.\n",
    "  - Similarly, a .resource.yaml file is created for each dataset, following the [Frictionless Data Resource specification](https://framework.frictionlessdata.io/docs/framework/resource.html). This file includes metadata about the CSV file, such as its name, path, format, and the schema it conforms to, as well as a hash code for integrity checking. Additionally, it contains descriptive information about the dataset and references to its source.\n",
    "  - The YAML files for schemas and resource descriptors are used to make data more usable by simplifying its publication and consumption. By adhering to Frictionless standards, the script ensures that the datasets it produces are easily shareable, validatable, and integrable into a wide range of data tools and platforms."
   ]
  },
  {
   "cell_type": "markdown",
   "id": "85a3d75b-04f3-4dcf-8ff3-5df41a755277",
   "metadata": {},
   "source": [
    "## Setup"
   ]
  },
  {
   "cell_type": "markdown",
   "id": "c6a534be-4b96-4f02-ac98-c7d1d82c98ee",
   "metadata": {},
   "source": [
    "### Import required packages"
   ]
  },
  {
   "cell_type": "code",
   "execution_count": 1,
   "id": "1cb7ebf5-48ba-43d4-9e69-a17e675484c8",
   "metadata": {},
   "outputs": [],
   "source": [
    "import os\n",
    "import pandas as pd\n",
    "import yaml\n",
    "import json\n",
    "import frictionless\n",
    "from frictionless import validate\n",
    "import requests\n",
    "import sys\n",
    "sys.path.append(os.path.normpath(\"../../morpc-common\"))\n",
    "import morpc\n",
    "import xlsxwriter\n",
    "from io import StringIO"
   ]
  },
  {
   "cell_type": "markdown",
   "id": "00cf8c7d-4217-4a6c-a781-858b1214caad",
   "metadata": {},
   "source": [
    "### Parameters"
   ]
  },
  {
   "cell_type": "markdown",
   "id": "5afea755-c515-476d-94e4-81457a0b6052",
   "metadata": {},
   "source": [
    "#### Static parameters"
   ]
  },
  {
   "cell_type": "code",
   "execution_count": 2,
   "id": "886cc84d-1908-4e9e-b8e0-a040d5e3fb61",
   "metadata": {},
   "outputs": [],
   "source": [
    "# List of identifying columns for long-form tables\n",
    "id_vars = [\n",
    "    'area_fips', 'own_code', 'industry_code', 'agglvl_code', 'size_code', 'year', 'qtr', 'disclosure_code', 'lq_disclosure_code', 'oty_disclosure_code'\n",
    "]\n",
    "\n",
    "# Location where output files will be saved\n",
    "OUTPUT_DIR = os.path.normpath(\"./output_data\")\n",
    "\n",
    "# Location where input files must be placed\n",
    "INPUT_DIR = os.path.normpath(\"./input_data\")\n",
    "\n",
    "# File name for long-form quarterly table\n",
    "QCEW_QUARTERLY_LONG_OUTPUT_NAME  = \"qcew_quarterly_long.csv\" \n",
    "# File name for wide-form quarterly table\n",
    "QCEW_QUARTERLY_WIDE_OUTPUT_NAME  = \"qcew_quarterly_wide.csv\" \n",
    "\n",
    "# File name for long-form annual table\n",
    "QCEW_ANNUAL_LONG_OUTPUT_NAME  = \"qcew_annual_long.csv\" \n",
    "# File name for wide-form annual table\n",
    "QCEW_ANNUAL_WIDE_OUTPUT_NAME  = \"qcew_annual_wide.csv\" \n",
    "\n",
    "\n",
    "\n",
    "# Quarterly data paths\n",
    "QCEW_QUARTERLY_LONG_OUTPUT_PATH = os.path.join(OUTPUT_DIR, QCEW_QUARTERLY_LONG_OUTPUT_NAME)\n",
    "QCEW_QUARTERLY_WIDE_OUTPUT_PATH = os.path.join(OUTPUT_DIR, QCEW_QUARTERLY_WIDE_OUTPUT_NAME)\n",
    "\n",
    "QCEW_QUARTERLY_LONG_OUTPUT_RESOURCE = \"qcew_quarterly_long.resource.yaml\" \n",
    "QCEW_QUARTERLY_LONG_OUTPUT_RESOURCE_PATH = os.path.join(OUTPUT_DIR, QCEW_QUARTERLY_LONG_OUTPUT_RESOURCE)\n",
    "QCEW_QUARTERLY_WIDE_OUTPUT_RESOURCE = \"qcew_quarterly_wide.resource.yaml\"\n",
    "QCEW_QUARTERLY_WIDE_OUTPUT_RESOURCE_PATH = os.path.join(OUTPUT_DIR, QCEW_QUARTERLY_WIDE_OUTPUT_RESOURCE)\n",
    "\n",
    "# Annual paths\n",
    "QCEW_ANNUAL_LONG_OUTPUT_PATH = os.path.join(OUTPUT_DIR, QCEW_ANNUAL_LONG_OUTPUT_NAME)\n",
    "QCEW_ANNUAL_WIDE_OUTPUT_PATH = os.path.join(OUTPUT_DIR, QCEW_ANNUAL_WIDE_OUTPUT_NAME)\n",
    "\n",
    "QCEW_ANNUAL_LONG_OUTPUT_RESOURCE = \"qcew_annaual_long.resource.yaml\" \n",
    "QCEW_ANNUAL_LONG_OUTPUT_RESOURCE_PATH = os.path.join(OUTPUT_DIR, QCEW_ANNUAL_LONG_OUTPUT_RESOURCE)\n",
    "QCEW_ANNUAL_WIDE_OUTPUT_RESOURCE = \"qcew_annaual_wide.resource.yaml\"\n",
    "QCEW_ANNUAL_WIDE_OUTPUT_RESOURCE_PATH = os.path.join(OUTPUT_DIR, QCEW_ANNUAL_WIDE_OUTPUT_RESOURCE)\n",
    "\n",
    "\n",
    "# Define quarterly and annual schema directories from local copies\n",
    "QUARTERLY_TABLE_SCHEMA_FILENAME = \"morpc-qcew-quarterly.schema.yaml\"\n",
    "QUARTERLY_TABLE_SCHEMA_PATH = os.path.join(OUTPUT_DIR, QUARTERLY_TABLE_SCHEMA_FILENAME)\n",
    "ANNUAL_TABLE_SCHEMA_FILENAME = \"morpc-qcew-annual.schema.yaml\"\n",
    "ANNUAL_TABLE_SCHEMA_PATH = os.path.join(OUTPUT_DIR, ANNUAL_TABLE_SCHEMA_FILENAME)\n",
    "LONG_TABLE_SCHEMA_FILENAME = \"morpc-qcew-long.schema.yaml\"\n",
    "LONG_TABLE_SCHEMA_PATH = os.path.join(OUTPUT_DIR, LONG_TABLE_SCHEMA_FILENAME)\n",
    "\n",
    "# Documentation URL for the QCEW data - static because it points to the general documentation page\n",
    "QCEW_TABLE_DOC_URL=\"https://www.bls.gov/cew/additional-resources/open-data/csv-data-slices.htm\"\n"
   ]
  },
  {
   "cell_type": "markdown",
   "id": "6b75b976-dbce-4e8a-a5ae-2fb8888dbc97",
   "metadata": {},
   "source": [
    "Create a function to check if a value is numberic"
   ]
  },
  {
   "cell_type": "code",
   "execution_count": 3,
   "id": "3c794478-e33b-40a9-942e-7d3d0c172684",
   "metadata": {},
   "outputs": [],
   "source": [
    "def is_numeric(val):\n",
    "    \"\"\"Check if the value is numeric.\"\"\"\n",
    "    try:\n",
    "        float(val)\n",
    "        return True\n",
    "    except ValueError:\n",
    "        return False"
   ]
  },
  {
   "cell_type": "markdown",
   "id": "45977dc8-f469-4d30-b7c3-b2ddfc380b0c",
   "metadata": {},
   "source": [
    "### Define inputs"
   ]
  },
  {
   "cell_type": "code",
   "execution_count": 4,
   "id": "a36f2965-cd89-4354-bf1f-11208e018e82",
   "metadata": {},
   "outputs": [
    {
     "name": "stdout",
     "output_type": "stream",
     "text": [
      "Annual schema file stored in: output_data\\morpc-qcew-annual.schema.yaml\n",
      "Quarterly schema file stored in: output_data\\morpc-qcew-quarterly.schema.yaml\n",
      "Long schema file stored in: output_data\\morpc-qcew-long.schema.yaml\n",
      "QCEW files to be compiled stored in: input_data\n"
     ]
    }
   ],
   "source": [
    "print(\"Annual schema file stored in: {}\".format(ANNUAL_TABLE_SCHEMA_PATH))\n",
    "print(\"Quarterly schema file stored in: {}\".format(QUARTERLY_TABLE_SCHEMA_PATH))\n",
    "print(\"Long schema file stored in: {}\".format(LONG_TABLE_SCHEMA_PATH))\n",
    "print(\"QCEW files to be compiled stored in: {}\".format(INPUT_DIR))"
   ]
  },
  {
   "cell_type": "markdown",
   "id": "02c5d543-fe4d-4360-ae18-5dddb8396f44",
   "metadata": {},
   "source": [
    "### Define outputs"
   ]
  },
  {
   "cell_type": "code",
   "execution_count": 5,
   "id": "a64d93e0-68b2-43a0-9eed-c45c92126b02",
   "metadata": {},
   "outputs": [
    {
     "name": "stdout",
     "output_type": "stream",
     "text": [
      "Long quarterly QCEW data will be saved to: output_data\\qcew_quarterly_long.csv\n",
      "Long quarterly QCEW data resource files will be saved to: output_data\\qcew_quarterly_long.resource.yaml\n",
      "Wide quarterly QCEW data will be saved to: output_data\\qcew_quarterly_wide.csv\n",
      "Wide quarterly QCEW data resource files will be saved to: output_data\\qcew_quarterly_wide.resource.yaml\n",
      "\n",
      "Long annual QCEW data will be saved to: output_data\\qcew_annual_long.csv\n",
      "Long annual QCEW data resource files will be saved to: output_data\\qcew_annaual_long.resource.yaml\n",
      "Wide annual QCEW data will be saved to: output_data\\qcew_annual_wide.csv\n",
      "Wide annual QCEW data resource files will be saved to: output_data\\qcew_annaual_wide.resource.yaml\n"
     ]
    }
   ],
   "source": [
    "print(\"Long quarterly QCEW data will be saved to: {}\".format(QCEW_QUARTERLY_LONG_OUTPUT_PATH))\n",
    "print(\"Long quarterly QCEW data resource files will be saved to: {}\".format(QCEW_QUARTERLY_LONG_OUTPUT_RESOURCE_PATH))\n",
    "print(\"Wide quarterly QCEW data will be saved to: {}\".format(QCEW_QUARTERLY_WIDE_OUTPUT_PATH))\n",
    "print(\"Wide quarterly QCEW data resource files will be saved to: {}\".format(QCEW_QUARTERLY_WIDE_OUTPUT_RESOURCE_PATH))\n",
    "print(\"\")\n",
    "print(\"Long annual QCEW data will be saved to: {}\".format(QCEW_ANNUAL_LONG_OUTPUT_PATH))\n",
    "print(\"Long annual QCEW data resource files will be saved to: {}\".format(QCEW_ANNUAL_LONG_OUTPUT_RESOURCE_PATH))\n",
    "print(\"Wide annual QCEW data will be saved to: {}\".format(QCEW_ANNUAL_WIDE_OUTPUT_PATH))\n",
    "print(\"Wide annual QCEW data resource files will be saved to: {}\".format(QCEW_ANNUAL_WIDE_OUTPUT_RESOURCE_PATH))"
   ]
  },
  {
   "cell_type": "markdown",
   "id": "840a6fd8-be97-4f34-959a-1891f7a3f258",
   "metadata": {},
   "source": [
    "## Main code"
   ]
  },
  {
   "cell_type": "markdown",
   "id": "65ad6c08-dcfb-4107-a073-10b908f2ee1c",
   "metadata": {},
   "source": [
    "### Seperating quarterly and annual data and concating to wide-form data tables"
   ]
  },
  {
   "cell_type": "markdown",
   "id": "7286137a-a51b-4618-800c-7776c86f48fc",
   "metadata": {},
   "source": [
    "This script checks every '.csv' file in \"input_data\" and sorts between quarterly and annual data. The files are validated against their respective schema*. If valid, the files are concatonated into seperate wide-form '.csv', one for annual data and one for quarterly data."
   ]
  },
  {
   "cell_type": "code",
   "execution_count": 6,
   "id": "a00c5ba9-88ac-41ff-9124-484cf50512e8",
   "metadata": {},
   "outputs": [
    {
     "name": "stdout",
     "output_type": "stream",
     "text": [
      "All quarterly QCEW CSV files have been concatenated into output_data\\qcew_quarterly_wide.csv\n",
      "All annual QCEW CSV files have been concatenated into output_data\\qcew_annual_wide.csv\n"
     ]
    }
   ],
   "source": [
    "numeric_dfs = []  # List to store data frames with numeric 'qtr'\n",
    "non_numeric_dfs = []  # List to store other data frames\n",
    "\n",
    "# Iterate over all files in the given directory\n",
    "for filename in os.listdir(os.path.normpath(INPUT_DIR)):\n",
    "    if filename.endswith('.csv'):\n",
    "        file_path = os.path.join(os.path.normpath(INPUT_DIR), filename)\n",
    "        try:\n",
    "            df = pd.read_csv(file_path)\n",
    "\n",
    "            # Check if any entry in 'qtr' is numeric\n",
    "            if df['qtr'].apply(is_numeric).any():\n",
    "                numeric_dfs.append(df)\n",
    "            else:\n",
    "                non_numeric_dfs.append(df)\n",
    "        except Exception as e:\n",
    "            print(f\"Error processing file {filename}: {e}\")\n",
    "\n",
    "# Concatenate all data frames for numeric 'qtr' into one CSV\n",
    "if numeric_dfs:\n",
    "    pd.concat(numeric_dfs).to_csv(QCEW_QUARTERLY_WIDE_OUTPUT_PATH, index=False)\n",
    "    print(f\"All quarterly QCEW CSV files have been concatenated into {QCEW_QUARTERLY_WIDE_OUTPUT_PATH}\")\n",
    "else:\n",
    "    print(\"No quarterly QCEW CSV files to process.\")\n",
    "    \n",
    "# Concatenate all other data frames into another CSV\n",
    "if non_numeric_dfs:\n",
    "    pd.concat(non_numeric_dfs).to_csv(QCEW_ANNUAL_WIDE_OUTPUT_PATH, index=False)\n",
    "    print(f\"All annual QCEW CSV files have been concatenated into {QCEW_ANNUAL_WIDE_OUTPUT_PATH}\")\n",
    "else:\n",
    "    print(\"No annual QCEW CSV files to process.\")\n"
   ]
  },
  {
   "cell_type": "code",
   "execution_count": 7,
   "id": "23e2ff3d-b318-4cc3-9148-296c1dfedeaa",
   "metadata": {},
   "outputs": [
    {
     "name": "stdout",
     "output_type": "stream",
     "text": [
      "   area_fips  own_code industry_code  agglvl_code  size_code  year  qtr  \\\n",
      "0      39041         0            10           70          0  2018    1   \n",
      "1      39041         1            10           71          0  2018    1   \n",
      "2      39041         1           102           72          0  2018    1   \n",
      "3      39041         1          1021           73          0  2018    1   \n",
      "4      39041         1          1024           73          0  2018    1   \n",
      "\n",
      "  disclosure_code  qtrly_estabs  month1_emplvl  ...  oty_month3_emplvl_chg  \\\n",
      "0             NaN          5419          85491  ...                    666   \n",
      "1             NaN            15            238  ...                     -4   \n",
      "2             NaN            15            238  ...                     -4   \n",
      "3             NaN             9            190  ...                      0   \n",
      "4             NaN             1             13  ...                      0   \n",
      "\n",
      "   oty_month3_emplvl_pct_chg  oty_total_qtrly_wages_chg  \\\n",
      "0                        0.8                   62244567   \n",
      "1                       -1.7                     154305   \n",
      "2                       -1.7                     154305   \n",
      "3                        0.0                     181956   \n",
      "4                        0.0                     -22316   \n",
      "\n",
      "   oty_total_qtrly_wages_pct_chg  oty_taxable_qtrly_wages_chg  \\\n",
      "0                            4.8                     31149383   \n",
      "1                            4.7                            0   \n",
      "2                            4.7                            0   \n",
      "3                            8.1                            0   \n",
      "4                          -10.5                            0   \n",
      "\n",
      "   oty_taxable_qtrly_wages_pct_chg oty_qtrly_contributions_chg  \\\n",
      "0                              5.9                    -2400745   \n",
      "1                              0.0                           0   \n",
      "2                              0.0                           0   \n",
      "3                              0.0                           0   \n",
      "4                              0.0                           0   \n",
      "\n",
      "   oty_qtrly_contributions_pct_chg  oty_avg_wkly_wage_chg  \\\n",
      "0                            -17.9                     43   \n",
      "1                              0.0                     58   \n",
      "2                              0.0                     58   \n",
      "3                              0.0                     59   \n",
      "4                              0.0                    -71   \n",
      "\n",
      "   oty_avg_wkly_wage_pct_chg  \n",
      "0                        3.7  \n",
      "1                        5.4  \n",
      "2                        5.4  \n",
      "3                        6.2  \n",
      "4                       -6.0  \n",
      "\n",
      "[5 rows x 42 columns]\n",
      "   area_fips  own_code industry_code  agglvl_code  size_code  year qtr  \\\n",
      "0      39041         0            10           70          0  2018   A   \n",
      "1      39041         1            10           71          0  2018   A   \n",
      "2      39041         1           102           72          0  2018   A   \n",
      "3      39041         1          1021           73          0  2018   A   \n",
      "4      39041         1          1024           73          0  2018   A   \n",
      "\n",
      "  disclosure_code  annual_avg_estabs  annual_avg_emplvl  ...  \\\n",
      "0             NaN               5456              88543  ...   \n",
      "1             NaN                 15                238  ...   \n",
      "2             NaN                 15                238  ...   \n",
      "3             NaN                  9                190  ...   \n",
      "4             NaN                  1                 12  ...   \n",
      "\n",
      "   oty_total_annual_wages_chg  oty_total_annual_wages_pct_chg  \\\n",
      "0                   163364427                             3.4   \n",
      "1                     1117778                             8.1   \n",
      "2                     1117778                             8.1   \n",
      "3                      953483                             9.4   \n",
      "4                      -18775                            -2.7   \n",
      "\n",
      "   oty_taxable_annual_wages_chg  oty_taxable_annual_wages_pct_chg  \\\n",
      "0                      41541939                               4.9   \n",
      "1                             0                               0.0   \n",
      "2                             0                               0.0   \n",
      "3                             0                               0.0   \n",
      "4                             0                               0.0   \n",
      "\n",
      "   oty_annual_contributions_chg oty_annual_contributions_pct_chg  \\\n",
      "0                      -4023618                            -18.9   \n",
      "1                             0                              0.0   \n",
      "2                             0                              0.0   \n",
      "3                             0                              0.0   \n",
      "4                             0                              0.0   \n",
      "\n",
      "   oty_annual_avg_wkly_wage_chg  oty_annual_avg_wkly_wage_pct_chg  \\\n",
      "0                            31                               3.0   \n",
      "1                            78                               6.9   \n",
      "2                            78                               6.9   \n",
      "3                            75                               7.1   \n",
      "4                           -67                              -5.9   \n",
      "\n",
      "   oty_avg_annual_pay_chg  oty_avg_annual_pay_pct_chg  \n",
      "0                    1589                         3.0  \n",
      "1                    4097                         7.0  \n",
      "2                    4097                         7.0  \n",
      "3                    3900                         7.1  \n",
      "4                   -3504                        -6.0  \n",
      "\n",
      "[5 rows x 38 columns]\n"
     ]
    }
   ],
   "source": [
    "if pd.concat(numeric_dfs) is not None:\n",
    "    print(pd.concat(numeric_dfs).head())\n",
    "\n",
    "if pd.concat(non_numeric_dfs) is not None:\n",
    "    print(pd.concat(non_numeric_dfs).head())"
   ]
  },
  {
   "cell_type": "markdown",
   "id": "ace07633-f811-4b57-ab61-eadd79d3fe44",
   "metadata": {},
   "source": [
    "### Creating long-form annual table, if wide-form annual data exists"
   ]
  },
  {
   "cell_type": "markdown",
   "id": "73f2882a-bfdd-4a71-aab5-ce975a3718a7",
   "metadata": {},
   "source": [
    "Melt the original wide-form annual data into a long-form table where each row corresponds to a single variable for a given county, year, establishment ownership, establishment size, industry, aggregation code, and disclosure codes"
   ]
  },
  {
   "cell_type": "code",
   "execution_count": 8,
   "id": "6dbef9f1-bc3c-4dcf-9192-e3c9b4b022d8",
   "metadata": {},
   "outputs": [],
   "source": [
    "# Load the annual wide CSV\n",
    "df_annual = pd.read_csv(QCEW_ANNUAL_WIDE_OUTPUT_PATH)\n",
    "\n",
    "# Verify if there's data in the annual DataFrame\n",
    "if not df_annual.empty:\n",
    "    value_vars_annual = df_annual.columns.difference(id_vars)\n",
    "    df_annual_long = pd.melt(df_annual, id_vars=id_vars, value_vars=value_vars_annual, \n",
    "                             var_name='variable', value_name='value')\n",
    "    df_annual_long.to_csv(QCEW_ANNUAL_LONG_OUTPUT_PATH, index=False)\n",
    "    (f\"All annual QCEW data have been saved as long into: {QCEW_ANNUAL_LONG_OUTPUT_PATH}\")\n",
    "else: \n",
    "    print(\"No annual data to melt\")"
   ]
  },
  {
   "cell_type": "code",
   "execution_count": 9,
   "id": "b3b09c95-67de-4189-954b-bdfc5c61a988",
   "metadata": {},
   "outputs": [
    {
     "name": "stdout",
     "output_type": "stream",
     "text": [
      "   area_fips  own_code industry_code  agglvl_code  size_code  year qtr  \\\n",
      "0      39041         0            10           70          0  2018   A   \n",
      "1      39041         1            10           71          0  2018   A   \n",
      "2      39041         1           102           72          0  2018   A   \n",
      "3      39041         1          1021           73          0  2018   A   \n",
      "4      39041         1          1024           73          0  2018   A   \n",
      "\n",
      "  disclosure_code lq_disclosure_code oty_disclosure_code           variable  \\\n",
      "0             NaN                NaN                 NaN  annual_avg_emplvl   \n",
      "1             NaN                NaN                 NaN  annual_avg_emplvl   \n",
      "2             NaN                NaN                 NaN  annual_avg_emplvl   \n",
      "3             NaN                NaN                 NaN  annual_avg_emplvl   \n",
      "4             NaN                NaN                 NaN  annual_avg_emplvl   \n",
      "\n",
      "     value  \n",
      "0  88543.0  \n",
      "1    238.0  \n",
      "2    238.0  \n",
      "3    190.0  \n",
      "4     12.0  \n"
     ]
    }
   ],
   "source": [
    "if df_annual_long is not None:\n",
    "    print(df_annual_long.head())"
   ]
  },
  {
   "cell_type": "markdown",
   "id": "2a34741e-e49a-43cb-8085-09545da303b1",
   "metadata": {},
   "source": [
    "### Creating long-form quarterly table, if wide-form quarterly data exists"
   ]
  },
  {
   "cell_type": "markdown",
   "id": "fe1faa4a-dd7b-46f6-8857-1f323594cc4d",
   "metadata": {},
   "source": [
    "Melt the original wide-form quarterly data into a long-form table where each row corresponds to a single variable for a given county, year, quarter, establishment ownership, establishment size, industry, aggregation code, and disclosure codes"
   ]
  },
  {
   "cell_type": "code",
   "execution_count": 10,
   "id": "cc292957-171d-4b49-9d85-e48e8d1691c8",
   "metadata": {},
   "outputs": [],
   "source": [
    "# Load the quarterly wide CSV\n",
    "df_quarterly = pd.read_csv(QCEW_QUARTERLY_WIDE_OUTPUT_PATH)\n",
    "\n",
    "# Verify if there's data in the quarterly DataFrame\n",
    "if not df_quarterly.empty:\n",
    "    value_vars_quarterly = df_quarterly.columns.difference(id_vars)\n",
    "    df_quarterly_long = pd.melt(df_quarterly, id_vars=id_vars, value_vars=value_vars_quarterly, \n",
    "                                var_name='variable', value_name='value')\n",
    "    df_quarterly_long.to_csv(QCEW_QUARTERLY_LONG_OUTPUT_PATH, index=False)\n",
    "    (f\"All quarterly QCEW data have been saved as long into: {QCEW_QUARTERLY_LONG_OUTPUT_PATH}\")\n",
    "    df_quarterly_long.head()\n",
    "else: \n",
    "    print(\"No quarterly data to melt\")"
   ]
  },
  {
   "cell_type": "code",
   "execution_count": 11,
   "id": "52e1da25-c4c8-4136-9522-a6b1f128ecf5",
   "metadata": {},
   "outputs": [
    {
     "name": "stdout",
     "output_type": "stream",
     "text": [
      "   area_fips  own_code industry_code  agglvl_code  size_code  year  qtr  \\\n",
      "0      39041         0            10           70          0  2018    1   \n",
      "1      39041         1            10           71          0  2018    1   \n",
      "2      39041         1           102           72          0  2018    1   \n",
      "3      39041         1          1021           73          0  2018    1   \n",
      "4      39041         1          1024           73          0  2018    1   \n",
      "\n",
      "  disclosure_code  qtrly_estabs  month1_emplvl  ...  oty_month3_emplvl_chg  \\\n",
      "0             NaN          5419          85491  ...                    666   \n",
      "1             NaN            15            238  ...                     -4   \n",
      "2             NaN            15            238  ...                     -4   \n",
      "3             NaN             9            190  ...                      0   \n",
      "4             NaN             1             13  ...                      0   \n",
      "\n",
      "   oty_month3_emplvl_pct_chg  oty_total_qtrly_wages_chg  \\\n",
      "0                        0.8                   62244567   \n",
      "1                       -1.7                     154305   \n",
      "2                       -1.7                     154305   \n",
      "3                        0.0                     181956   \n",
      "4                        0.0                     -22316   \n",
      "\n",
      "   oty_total_qtrly_wages_pct_chg  oty_taxable_qtrly_wages_chg  \\\n",
      "0                            4.8                     31149383   \n",
      "1                            4.7                            0   \n",
      "2                            4.7                            0   \n",
      "3                            8.1                            0   \n",
      "4                          -10.5                            0   \n",
      "\n",
      "   oty_taxable_qtrly_wages_pct_chg oty_qtrly_contributions_chg  \\\n",
      "0                              5.9                    -2400745   \n",
      "1                              0.0                           0   \n",
      "2                              0.0                           0   \n",
      "3                              0.0                           0   \n",
      "4                              0.0                           0   \n",
      "\n",
      "   oty_qtrly_contributions_pct_chg  oty_avg_wkly_wage_chg  \\\n",
      "0                            -17.9                     43   \n",
      "1                              0.0                     58   \n",
      "2                              0.0                     58   \n",
      "3                              0.0                     59   \n",
      "4                              0.0                    -71   \n",
      "\n",
      "   oty_avg_wkly_wage_pct_chg  \n",
      "0                        3.7  \n",
      "1                        5.4  \n",
      "2                        5.4  \n",
      "3                        6.2  \n",
      "4                       -6.0  \n",
      "\n",
      "[5 rows x 42 columns]\n"
     ]
    }
   ],
   "source": [
    "if df_quarterly is not None:\n",
    "    print(df_quarterly.head())"
   ]
  },
  {
   "cell_type": "markdown",
   "id": "8cd335f4-8a2a-41be-b193-0a7587a800bd",
   "metadata": {},
   "source": [
    "## Create and validate resource file for annual wide-form table, if it exists"
   ]
  },
  {
   "cell_type": "code",
   "execution_count": 12,
   "id": "d4d2bbd5-d959-43a1-a6af-982b84df783d",
   "metadata": {},
   "outputs": [
    {
     "name": "stdout",
     "output_type": "stream",
     "text": [
      "Writing resource file to output_data\\qcew_annaual_wide.resource.yaml\n",
      "Validating resource on disk (including data and schema). This may take some time.\n",
      "Resource is valid\n",
      "\n"
     ]
    }
   ],
   "source": [
    "df_wide_annual = pd.read_csv(QCEW_ANNUAL_WIDE_OUTPUT_PATH)\n",
    "\n",
    "# Finding the maximum and minimum values in the 'year' column\n",
    "max_year = df_wide_annual['year'].max()\n",
    "min_year = df_wide_annual['year'].min()\n",
    "\n",
    "# Update title and description with the county name\n",
    "title = f\"Compiled QCEW County Data, {min_year}-{max_year} (wide form)\"\n",
    "description = f\"Employment and wage data for counties in MOPRC region, derived from the U.S. Bureau of Labor Statistics.\"\n",
    "\n",
    "# Resource creation for WIDE ANNUAL\n",
    "if not df_wide_annual.empty:\n",
    "    acsResource = {\n",
    "        \"name\": \"qcew_annual_wide\",\n",
    "        \"title\": title,\n",
    "        \"description\": description,\n",
    "        \"path\": QCEW_ANNUAL_WIDE_OUTPUT_NAME,\n",
    "        \"format\": \"csv\",\n",
    "        \"mediatype\": \"text/csv\",\n",
    "        \"encoding\": \"utf-8\",\n",
    "        \"bytes\": os.path.getsize(QCEW_ANNUAL_WIDE_OUTPUT_PATH),\n",
    "        \"hash\": morpc.md5(QCEW_ANNUAL_WIDE_OUTPUT_PATH),\n",
    "        \"schema\": ANNUAL_TABLE_SCHEMA_FILENAME,\n",
    "        \"profile\":'tabular-data-resource'\n",
    "    }\n",
    "    \n",
    "    # Create the resource object\n",
    "    resource = frictionless.Resource(acsResource)\n",
    "\n",
    "    print(\"Writing resource file to {}\".format(QCEW_ANNUAL_WIDE_OUTPUT_RESOURCE_PATH))\n",
    "    cwd = os.getcwd()\n",
    "    os.chdir(os.path.dirname(QCEW_ANNUAL_WIDE_OUTPUT_RESOURCE_PATH))\n",
    "    dummy = resource.to_yaml(os.path.basename(QCEW_ANNUAL_WIDE_OUTPUT_RESOURCE_PATH))\n",
    "    os.chdir(cwd)\n",
    "    \n",
    "    print(\"Validating resource on disk (including data and schema). This may take some time.\")\n",
    "    resourceOnDisk = frictionless.Resource(QCEW_ANNUAL_WIDE_OUTPUT_RESOURCE_PATH)\n",
    "    results = resourceOnDisk.validate()\n",
    "    if(results.valid):\n",
    "        print(\"Resource is valid\\n\")\n",
    "    else:\n",
    "        print(\"ERROR: Resource is NOT valid. Errors follow.\\n\")\n",
    "        print(results)\n",
    "        raise RuntimeError\n"
   ]
  },
  {
   "cell_type": "markdown",
   "id": "fa1cd7e4-8984-4949-b014-09f3df7e0728",
   "metadata": {},
   "source": [
    "## Create and validate resource file for quarterly wide-form table, if it exists"
   ]
  },
  {
   "cell_type": "code",
   "execution_count": 13,
   "id": "93320904-73a2-404d-9dc2-41fd84fc4e93",
   "metadata": {},
   "outputs": [
    {
     "name": "stdout",
     "output_type": "stream",
     "text": [
      "Writing resource file to output_data\\qcew_quarterly_wide.resource.yaml\n",
      "Validating resource on disk (including data and schema). This may take some time.\n",
      "Resource is valid\n",
      "\n"
     ]
    }
   ],
   "source": [
    "df_wide_annual = pd.read_csv(QCEW_QUARTERLY_WIDE_OUTPUT_PATH)\n",
    "\n",
    "# Finding the maximum and minimum values in the 'year' column\n",
    "max_year = df_wide_annual['year'].max()\n",
    "min_year = df_wide_annual['year'].min()\n",
    "\n",
    "# Update title and description with the county name\n",
    "title = f\"Compiled QCEW County Data, {min_year}-{max_year} (wide form)\"\n",
    "description = f\"Employment and wage data for counties in MOPRC region, derived from the U.S. Bureau of Labor Statistics.\"\n",
    "\n",
    "# Resource creation for WIDE ANNUAL\n",
    "if not df_wide_annual.empty:\n",
    "    acsResource ={\n",
    "    \"name\": \"qcew_quarterly_wide\",\n",
    "    \"title\": title,\n",
    "    \"description\": description,\n",
    "    \"path\": QCEW_QUARTERLY_WIDE_OUTPUT_NAME,\n",
    "    \"format\": \"csv\",\n",
    "    \"mediatype\": \"text/csv\",\n",
    "    \"encoding\": \"utf-8\",\n",
    "    \"bytes\": os.path.getsize(QCEW_QUARTERLY_WIDE_OUTPUT_PATH),\n",
    "    \"hash\": morpc.md5(QCEW_QUARTERLY_WIDE_OUTPUT_PATH),\n",
    "    \"schema\": QUARTERLY_TABLE_SCHEMA_FILENAME,\n",
    "    \"profile\":'tabular-data-resource'\n",
    "    }\n",
    "    \n",
    "    # Create the resource object\n",
    "    resource = frictionless.Resource(acsResource)\n",
    "\n",
    "    print(\"Writing resource file to {}\".format(QCEW_QUARTERLY_WIDE_OUTPUT_RESOURCE_PATH))\n",
    "    cwd = os.getcwd()\n",
    "    os.chdir(os.path.dirname(QCEW_QUARTERLY_WIDE_OUTPUT_RESOURCE_PATH))\n",
    "    dummy = resource.to_yaml(os.path.basename(QCEW_QUARTERLY_WIDE_OUTPUT_RESOURCE_PATH))\n",
    "    os.chdir(cwd)\n",
    "    \n",
    "    print(\"Validating resource on disk (including data and schema). This may take some time.\")\n",
    "    resourceOnDisk = frictionless.Resource(QCEW_QUARTERLY_WIDE_OUTPUT_RESOURCE_PATH)\n",
    "    results = resourceOnDisk.validate()\n",
    "    if(results.valid):\n",
    "        print(\"Resource is valid\\n\")\n",
    "    else:\n",
    "        print(\"ERROR: Resource is NOT valid. Errors follow.\\n\")\n",
    "        print(results)\n",
    "        raise RuntimeError\n"
   ]
  },
  {
   "cell_type": "markdown",
   "id": "b751d7d5-46c6-4257-98ee-1018b265d734",
   "metadata": {},
   "source": [
    "## Create and validate resource file for annual long-form table, if it exists"
   ]
  },
  {
   "cell_type": "code",
   "execution_count": 14,
   "id": "537b3e2e-9296-488d-b21c-175cae239666",
   "metadata": {},
   "outputs": [
    {
     "name": "stdout",
     "output_type": "stream",
     "text": [
      "Writing resource file to output_data\\qcew_annaual_long.resource.yaml\n",
      "Validating resource on disk (including data and schema). This may take some time.\n",
      "Resource is valid\n",
      "\n"
     ]
    }
   ],
   "source": [
    "df_wide_annual = pd.read_csv(QCEW_ANNUAL_LONG_OUTPUT_PATH)\n",
    "\n",
    "# Finding the maximum and minimum values in the 'year' column\n",
    "max_year = df_wide_annual['year'].max()\n",
    "min_year = df_wide_annual['year'].min()\n",
    "\n",
    "# Update title and description with the county name\n",
    "title = f\"Compiled QCEW County Data, {min_year}-{max_year} (wide form)\"\n",
    "description = f\"Employment and wage data for counties in MOPRC region, derived from the U.S. Bureau of Labor Statistics.\"\n",
    "\n",
    "# Resource creation for WIDE ANNUAL\n",
    "if not df_wide_annual.empty:\n",
    "    acsResource = {\n",
    "        \"name\": \"qcew_annual_long\",\n",
    "        \"title\": title,\n",
    "        \"description\": description,\n",
    "        \"path\": QCEW_ANNUAL_LONG_OUTPUT_NAME,\n",
    "        \"format\": \"csv\",\n",
    "        \"mediatype\": \"text/csv\",\n",
    "        \"encoding\": \"utf-8\",\n",
    "        \"bytes\": os.path.getsize(QCEW_ANNUAL_LONG_OUTPUT_PATH),\n",
    "        \"hash\": morpc.md5(QCEW_ANNUAL_LONG_OUTPUT_PATH),\n",
    "        \"schema\": LONG_TABLE_SCHEMA_FILENAME,\n",
    "        \"profile\":'tabular-data-resource'\n",
    "    }\n",
    "    \n",
    "    # Create the resource object\n",
    "    resource = frictionless.Resource(acsResource)\n",
    "\n",
    "    print(\"Writing resource file to {}\".format(QCEW_ANNUAL_LONG_OUTPUT_RESOURCE_PATH))\n",
    "    cwd = os.getcwd()\n",
    "    os.chdir(os.path.dirname(QCEW_ANNUAL_WIDE_OUTPUT_RESOURCE_PATH))\n",
    "    dummy = resource.to_yaml(os.path.basename(QCEW_ANNUAL_LONG_OUTPUT_RESOURCE_PATH))\n",
    "    os.chdir(cwd)\n",
    "    \n",
    "    print(\"Validating resource on disk (including data and schema). This may take some time.\")\n",
    "    resourceOnDisk = frictionless.Resource(QCEW_ANNUAL_LONG_OUTPUT_RESOURCE_PATH)\n",
    "    results = resourceOnDisk.validate()\n",
    "    if(results.valid):\n",
    "        print(\"Resource is valid\\n\")\n",
    "    else:\n",
    "        print(\"ERROR: Resource is NOT valid. Errors follow.\\n\")\n",
    "        print(results)\n",
    "        raise RuntimeError\n"
   ]
  },
  {
   "cell_type": "markdown",
   "id": "912b8f5a-24b5-4526-ace3-c354a38ce0c5",
   "metadata": {},
   "source": [
    "## Create and validate resource file for quarterly long-form table, if it exists"
   ]
  },
  {
   "cell_type": "code",
   "execution_count": 15,
   "id": "8160c7ef-a79f-42e6-a909-3915ba59a615",
   "metadata": {},
   "outputs": [
    {
     "name": "stdout",
     "output_type": "stream",
     "text": [
      "Current Working Directory: C:\\Users\\ogwynn\\OneDrive - Mid-Ohio Regional Planning Commission\\Desktop\\LocalRepo\\qcew_data_kit_redo\\assets\n",
      "Writing resource file to output_data\\qcew_quarterly_long.resource.yaml\n",
      "Validating resource on disk (including data and schema). This may take some time.\n",
      "Resource is valid\n",
      "\n"
     ]
    }
   ],
   "source": [
    "print(\"Current Working Directory:\", os.getcwd())\n",
    "df_wide_annual = pd.read_csv(QCEW_QUARTERLY_LONG_OUTPUT_PATH)\n",
    "\n",
    "# Finding the maximum and minimum values in the 'year' column\n",
    "max_year = df_wide_annual['year'].max()\n",
    "min_year = df_wide_annual['year'].min()\n",
    "\n",
    "# Update title and description with the county name\n",
    "title = f\"Compiled QCEW County Data, {min_year}-{max_year} (wide form)\"\n",
    "description = f\"Employment and wage data for counties in MOPRC region, derived from the U.S. Bureau of Labor Statistics.\"\n",
    "\n",
    "# Resource creation for WIDE ANNUAL\n",
    "if not df_wide_annual.empty:\n",
    "    \n",
    "    #exportCompiledDataResourceComponents(df_wide_annual, QCEW_ANNUAL_WIDE_OUTPUT_PATH, ANNUAL_TABLE_SCHEMA_PATH, QCEW_ANNUAL_WIDE_OUTPUT_RESOURCE_PATH)\n",
    "    acsResource = {\n",
    "      \"name\": \"qcew_quarterly_long\",\n",
    "      \"title\": title,\n",
    "      \"description\": description,\n",
    "      \"path\": QCEW_QUARTERLY_LONG_OUTPUT_NAME,\n",
    "      \"format\": \"csv\",\n",
    "      \"mediatype\": \"text/csv\",\n",
    "      \"encoding\": \"utf-8\",\n",
    "      \"bytes\": os.path.getsize(QCEW_QUARTERLY_LONG_OUTPUT_PATH),\n",
    "      \"hash\": morpc.md5(QCEW_QUARTERLY_LONG_OUTPUT_PATH),\n",
    "      \"schema\": LONG_TABLE_SCHEMA_FILENAME,\n",
    "      \"profile\":'tabular-data-resource'\n",
    "    }\n",
    "    \n",
    "    # Create the resource object\n",
    "    resource = frictionless.Resource(acsResource)\n",
    "\n",
    "    print(\"Writing resource file to {}\".format(QCEW_QUARTERLY_LONG_OUTPUT_RESOURCE_PATH))\n",
    "    cwd = os.getcwd()\n",
    "    os.chdir(os.path.dirname(QCEW_QUARTERLY_LONG_OUTPUT_RESOURCE_PATH))\n",
    "    dummy = resource.to_yaml(os.path.basename(QCEW_QUARTERLY_LONG_OUTPUT_RESOURCE_PATH))\n",
    "    os.chdir(cwd)\n",
    "    \n",
    "    print(\"Validating resource on disk (including data and schema). This may take some time.\")\n",
    "    resourceOnDisk = frictionless.Resource(QCEW_QUARTERLY_LONG_OUTPUT_RESOURCE_PATH)\n",
    "    results = resourceOnDisk.validate()\n",
    "    if(results.valid):\n",
    "        print(\"Resource is valid\\n\")\n",
    "    else:\n",
    "        print(\"ERROR: Resource is NOT valid. Errors follow.\\n\")\n",
    "        print(results)\n",
    "        raise RuntimeError\n"
   ]
  }
 ],
 "metadata": {
  "kernelspec": {
   "display_name": "Python 3 (ipykernel)",
   "language": "python",
   "name": "python3"
  },
  "language_info": {
   "codemirror_mode": {
    "name": "ipython",
    "version": 3
   },
   "file_extension": ".py",
   "mimetype": "text/x-python",
   "name": "python",
   "nbconvert_exporter": "python",
   "pygments_lexer": "ipython3",
   "version": "3.12.3"
  }
 },
 "nbformat": 4,
 "nbformat_minor": 5
}
